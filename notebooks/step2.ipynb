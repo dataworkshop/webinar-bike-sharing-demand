{
 "cells": [
  {
   "cell_type": "code",
   "execution_count": 1,
   "metadata": {},
   "outputs": [],
   "source": [
    "import pandas as pd\n",
    "import numpy as np\n",
    "np.random.seed(2017)\n",
    "\n",
    "from sklearn.model_selection import GroupKFold\n",
    "\n",
    "from sklearn.dummy import DummyRegressor\n",
    "from sklearn.tree import DecisionTreeRegressor\n",
    "from sklearn.ensemble import RandomForestRegressor\n",
    "\n",
    "#!pip install ml_metrics\n",
    "from ml_metrics import rmsle\n",
    "\n",
    "import matplotlib.pyplot as plt\n",
    "%matplotlib inline"
   ]
  },
  {
   "cell_type": "code",
   "execution_count": 2,
   "metadata": {},
   "outputs": [],
   "source": [
    "df_train = pd.read_csv('../input/train.csv', parse_dates=['datetime'])\n",
    "df_test = pd.read_csv('../input/test.csv', parse_dates=['datetime'])\n",
    "\n",
    "df_all = pd.concat([df_train, df_test], sort=False)"
   ]
  },
  {
   "cell_type": "markdown",
   "metadata": {},
   "source": [
    "## Success metric\n",
    "\n",
    "$$ \\sqrt{\\frac{1}{n} \\sum_{i=1}^n (\\log(p_i + 1) - \\log(a_i+1))^2 }$$\n",
    "\n",
    "where  \n",
    "**n** is the number of hours in the test set  \n",
    "**pi** is your predicted count  \n",
    "**ai** is the actual count  \n",
    "**log(x)** is the natural logarithm  "
   ]
  },
  {
   "cell_type": "code",
   "execution_count": 3,
   "metadata": {},
   "outputs": [
    {
     "data": {
      "image/png": "[encoded data removed]",
      "text/plain": [
       "<matplotlib.figure.Figure at 0x11b891160>"
      ]
     },
     "metadata": {},
     "output_type": "display_data"
    }
   ],
   "source": [
    "fig = plt.figure(figsize=(12, 10))\n",
    "\n",
    "y_true = [100]\n",
    "y_preds = np.linspace(0, 200, 200)\n",
    "\n",
    "err    = [ rmsle(y_true, [y_pred]) for y_pred in y_preds ]\n",
    "plt.plot(y_preds, err);"
   ]
  },
  {
   "cell_type": "code",
   "execution_count": 4,
   "metadata": {},
   "outputs": [
    {
     "data": {
      "text/plain": [
       "['season',\n",
       " 'holiday',\n",
       " 'workingday',\n",
       " 'weather',\n",
       " 'temp',\n",
       " 'atemp',\n",
       " 'humidity',\n",
       " 'windspeed']"
      ]
     },
     "execution_count": 4,
     "metadata": {},
     "output_type": "execute_result"
    }
   ],
   "source": [
    "def get_feats(df, black_list=['count', 'casual', 'registered']):\n",
    "    feats = df.select_dtypes(include=[np.int64, np.float64]).columns.values\n",
    "    \n",
    "    def allow_feat(feat):\n",
    "        for block_feat in black_list:\n",
    "            if block_feat in feat: return False\n",
    "        return True\n",
    "    \n",
    "    return [feat for feat in feats if allow_feat(feat) ]\n",
    "\n",
    "get_feats(df_train)"
   ]
  },
  {
   "cell_type": "markdown",
   "metadata": {},
   "source": [
    "## Basic Line"
   ]
  },
  {
   "cell_type": "code",
   "execution_count": 5,
   "metadata": {},
   "outputs": [
    {
     "data": {
      "text/plain": [
       "1.4725894242962372"
      ]
     },
     "execution_count": 5,
     "metadata": {},
     "output_type": "execute_result"
    }
   ],
   "source": [
    "feats = get_feats(df_train)\n",
    "X = df_train[feats].values\n",
    "y = df_train['count'].values\n",
    "\n",
    "model = DummyRegressor(strategy='median')\n",
    "model.fit(X, y)\n",
    "y_pred = model.predict(X)\n",
    "\n",
    "rmsle(y, y_pred)"
   ]
  },
  {
   "cell_type": "markdown",
   "metadata": {},
   "source": [
    "## Submit 1 => 1.48064"
   ]
  },
  {
   "cell_type": "code",
   "execution_count": 6,
   "metadata": {
    "collapsed": true
   },
   "outputs": [],
   "source": [
    "X = df_test[feats].values\n",
    "\n",
    "df_test['count'] = model.predict(X)\n",
    "df_test[ ['datetime', 'count'] ].to_csv('../output/dummy_median.csv', index=False)"
   ]
  },
  {
   "cell_type": "markdown",
   "metadata": {},
   "source": [
    "## How to make a submit?\n",
    "1. Go to [Kaggle](http://kaggle.com) and make account if you still don't have it\n",
    "2. Type \"bike sharing\" and select first one (\"Bike Sharing Demand\")\n",
    "3. Click \"Late Submission\"\n",
    "4. Upload a file\n",
    "5. Check result and be happy :)"
   ]
  },
  {
   "cell_type": "markdown",
   "metadata": {},
   "source": [
    "![](../images/bike_sharing_demand.png)\n",
    "![](../images/submission.png)\n",
    "\n",
    "### Submit `dummy_median.csv`\n",
    "![](../images/dummy_median_output.png)"
   ]
  },
  {
   "cell_type": "markdown",
   "metadata": {},
   "source": [
    "## Model #2: [Decision Tree](https://en.wikipedia.org/wiki/Decision_tree)"
   ]
  },
  {
   "cell_type": "code",
   "execution_count": 7,
   "metadata": {},
   "outputs": [
    {
     "data": {
      "text/plain": [
       "1.3345865242240684"
      ]
     },
     "execution_count": 7,
     "metadata": {},
     "output_type": "execute_result"
    }
   ],
   "source": [
    "feats = get_feats(df_train)\n",
    "X = df_train[feats].values\n",
    "y = df_train['count'].values\n",
    "\n",
    "model = DecisionTreeRegressor(max_depth=5, random_state=2018)\n",
    "model.fit(X, y)\n",
    "y_pred = model.predict(X)\n",
    "\n",
    "rmsle(y, y_pred)"
   ]
  },
  {
   "cell_type": "markdown",
   "metadata": {},
   "source": [
    "### Dates"
   ]
  },
  {
   "cell_type": "code",
   "execution_count": 8,
   "metadata": {
    "collapsed": true
   },
   "outputs": [],
   "source": [
    "def feats_engineering(df):\n",
    "    df['year'] = df['datetime'].dt.year\n",
    "    df['month'] = df['datetime'].dt.month\n",
    "    df['day'] = df['datetime'].dt.day\n",
    "    df['hour'] = df['datetime'].dt.hour\n",
    "    \n",
    "    return df"
   ]
  },
  {
   "cell_type": "code",
   "execution_count": 9,
   "metadata": {},
   "outputs": [
    {
     "data": {
      "text/plain": [
       "0.60214088889979633"
      ]
     },
     "execution_count": 9,
     "metadata": {},
     "output_type": "execute_result"
    }
   ],
   "source": [
    "feats = get_feats(feats_engineering(df_train))\n",
    "X = df_train[feats].values\n",
    "y = df_train['count'].values\n",
    "\n",
    "model = DecisionTreeRegressor(max_depth=5, random_state=2018)\n",
    "model.fit(X, y)\n",
    "y_pred = model.predict(X)\n",
    "\n",
    "rmsle(y, y_pred)"
   ]
  },
  {
   "cell_type": "markdown",
   "metadata": {},
   "source": [
    "### Submit 2 => 0.69329"
   ]
  },
  {
   "cell_type": "code",
   "execution_count": 10,
   "metadata": {},
   "outputs": [],
   "source": [
    "X = feats_engineering(df_test)[feats].values\n",
    "\n",
    "df_test['count'] = model.predict(X)\n",
    "df_test[ ['datetime', 'count'] ].to_csv('../output/decision_tree_5depth.csv', index=False)"
   ]
  },
  {
   "cell_type": "markdown",
   "metadata": {},
   "source": [
    "![](../images/decision_tree_0.693.png)"
   ]
  },
  {
   "cell_type": "markdown",
   "metadata": {},
   "source": [
    "## Overfitting\n",
    "Do you see, the difference between local result (0.602) and kaggle one (0.693)? This happened because we train and verify a quality of the model on same data. We need change this, because in next steps we'll do much more \"aggressive\" optimization.\n",
    "\n",
    "\n",
    "## Custom Validation"
   ]
  },
  {
   "cell_type": "code",
   "execution_count": 11,
   "metadata": {},
   "outputs": [
    {
     "data": {
      "text/html": [
       "<div>\n",
       "<style>\n",
       "    .dataframe thead tr:only-child th {\n",
       "        text-align: right;\n",
       "    }\n",
       "\n",
       "    .dataframe thead th {\n",
       "        text-align: left;\n",
       "    }\n",
       "\n",
       "    .dataframe tbody tr th {\n",
       "        vertical-align: top;\n",
       "    }\n",
       "</style>\n",
       "<table border=\"1\" class=\"dataframe\">\n",
       "  <thead>\n",
       "    <tr style=\"text-align: right;\">\n",
       "      <th></th>\n",
       "      <th></th>\n",
       "      <th>count</th>\n",
       "    </tr>\n",
       "    <tr>\n",
       "      <th>year</th>\n",
       "      <th>month</th>\n",
       "      <th></th>\n",
       "    </tr>\n",
       "  </thead>\n",
       "  <tbody>\n",
       "    <tr>\n",
       "      <th rowspan=\"12\" valign=\"top\">2011</th>\n",
       "      <th>1</th>\n",
       "      <td>257.0</td>\n",
       "    </tr>\n",
       "    <tr>\n",
       "      <th>2</th>\n",
       "      <td>203.0</td>\n",
       "    </tr>\n",
       "    <tr>\n",
       "      <th>3</th>\n",
       "      <td>284.0</td>\n",
       "    </tr>\n",
       "    <tr>\n",
       "      <th>4</th>\n",
       "      <td>264.0</td>\n",
       "    </tr>\n",
       "    <tr>\n",
       "      <th>5</th>\n",
       "      <td>288.0</td>\n",
       "    </tr>\n",
       "    <tr>\n",
       "      <th>6</th>\n",
       "      <td>264.0</td>\n",
       "    </tr>\n",
       "    <tr>\n",
       "      <th>7</th>\n",
       "      <td>288.0</td>\n",
       "    </tr>\n",
       "    <tr>\n",
       "      <th>8</th>\n",
       "      <td>275.0</td>\n",
       "    </tr>\n",
       "    <tr>\n",
       "      <th>9</th>\n",
       "      <td>264.0</td>\n",
       "    </tr>\n",
       "    <tr>\n",
       "      <th>10</th>\n",
       "      <td>288.0</td>\n",
       "    </tr>\n",
       "    <tr>\n",
       "      <th>11</th>\n",
       "      <td>263.0</td>\n",
       "    </tr>\n",
       "    <tr>\n",
       "      <th>12</th>\n",
       "      <td>285.0</td>\n",
       "    </tr>\n",
       "    <tr>\n",
       "      <th rowspan=\"12\" valign=\"top\">2012</th>\n",
       "      <th>1</th>\n",
       "      <td>288.0</td>\n",
       "    </tr>\n",
       "    <tr>\n",
       "      <th>2</th>\n",
       "      <td>237.0</td>\n",
       "    </tr>\n",
       "    <tr>\n",
       "      <th>3</th>\n",
       "      <td>288.0</td>\n",
       "    </tr>\n",
       "    <tr>\n",
       "      <th>4</th>\n",
       "      <td>264.0</td>\n",
       "    </tr>\n",
       "    <tr>\n",
       "      <th>5</th>\n",
       "      <td>288.0</td>\n",
       "    </tr>\n",
       "    <tr>\n",
       "      <th>6</th>\n",
       "      <td>264.0</td>\n",
       "    </tr>\n",
       "    <tr>\n",
       "      <th>7</th>\n",
       "      <td>288.0</td>\n",
       "    </tr>\n",
       "    <tr>\n",
       "      <th>8</th>\n",
       "      <td>288.0</td>\n",
       "    </tr>\n",
       "    <tr>\n",
       "      <th>9</th>\n",
       "      <td>264.0</td>\n",
       "    </tr>\n",
       "    <tr>\n",
       "      <th>10</th>\n",
       "      <td>252.0</td>\n",
       "    </tr>\n",
       "    <tr>\n",
       "      <th>11</th>\n",
       "      <td>263.0</td>\n",
       "    </tr>\n",
       "    <tr>\n",
       "      <th>12</th>\n",
       "      <td>286.0</td>\n",
       "    </tr>\n",
       "  </tbody>\n",
       "</table>\n",
       "</div>"
      ],
      "text/plain": [
       "            count\n",
       "year month       \n",
       "2011 1      257.0\n",
       "     2      203.0\n",
       "     3      284.0\n",
       "     4      264.0\n",
       "     5      288.0\n",
       "     6      264.0\n",
       "     7      288.0\n",
       "     8      275.0\n",
       "     9      264.0\n",
       "     10     288.0\n",
       "     11     263.0\n",
       "     12     285.0\n",
       "2012 1      288.0\n",
       "     2      237.0\n",
       "     3      288.0\n",
       "     4      264.0\n",
       "     5      288.0\n",
       "     6      264.0\n",
       "     7      288.0\n",
       "     8      288.0\n",
       "     9      264.0\n",
       "     10     252.0\n",
       "     11     263.0\n",
       "     12     286.0"
      ]
     },
     "execution_count": 11,
     "metadata": {},
     "output_type": "execute_result"
    }
   ],
   "source": [
    "df = feats_engineering(df_test)\n",
    "df[ ['year', 'month', 'count'] ].groupby(['year', 'month']).agg(len)"
   ]
  },
  {
   "cell_type": "code",
   "execution_count": 12,
   "metadata": {},
   "outputs": [
    {
     "data": {
      "text/html": [
       "<div>\n",
       "<style>\n",
       "    .dataframe thead tr:only-child th {\n",
       "        text-align: right;\n",
       "    }\n",
       "\n",
       "    .dataframe thead th {\n",
       "        text-align: left;\n",
       "    }\n",
       "\n",
       "    .dataframe tbody tr th {\n",
       "        vertical-align: top;\n",
       "    }\n",
       "</style>\n",
       "<table border=\"1\" class=\"dataframe\">\n",
       "  <thead>\n",
       "    <tr style=\"text-align: right;\">\n",
       "      <th></th>\n",
       "      <th></th>\n",
       "      <th>count</th>\n",
       "    </tr>\n",
       "    <tr>\n",
       "      <th>year</th>\n",
       "      <th>month</th>\n",
       "      <th></th>\n",
       "    </tr>\n",
       "  </thead>\n",
       "  <tbody>\n",
       "    <tr>\n",
       "      <th rowspan=\"12\" valign=\"top\">2011</th>\n",
       "      <th>1</th>\n",
       "      <td>431</td>\n",
       "    </tr>\n",
       "    <tr>\n",
       "      <th>2</th>\n",
       "      <td>446</td>\n",
       "    </tr>\n",
       "    <tr>\n",
       "      <th>3</th>\n",
       "      <td>446</td>\n",
       "    </tr>\n",
       "    <tr>\n",
       "      <th>4</th>\n",
       "      <td>455</td>\n",
       "    </tr>\n",
       "    <tr>\n",
       "      <th>5</th>\n",
       "      <td>456</td>\n",
       "    </tr>\n",
       "    <tr>\n",
       "      <th>6</th>\n",
       "      <td>456</td>\n",
       "    </tr>\n",
       "    <tr>\n",
       "      <th>7</th>\n",
       "      <td>456</td>\n",
       "    </tr>\n",
       "    <tr>\n",
       "      <th>8</th>\n",
       "      <td>456</td>\n",
       "    </tr>\n",
       "    <tr>\n",
       "      <th>9</th>\n",
       "      <td>453</td>\n",
       "    </tr>\n",
       "    <tr>\n",
       "      <th>10</th>\n",
       "      <td>455</td>\n",
       "    </tr>\n",
       "    <tr>\n",
       "      <th>11</th>\n",
       "      <td>456</td>\n",
       "    </tr>\n",
       "    <tr>\n",
       "      <th>12</th>\n",
       "      <td>456</td>\n",
       "    </tr>\n",
       "    <tr>\n",
       "      <th rowspan=\"12\" valign=\"top\">2012</th>\n",
       "      <th>1</th>\n",
       "      <td>453</td>\n",
       "    </tr>\n",
       "    <tr>\n",
       "      <th>2</th>\n",
       "      <td>455</td>\n",
       "    </tr>\n",
       "    <tr>\n",
       "      <th>3</th>\n",
       "      <td>455</td>\n",
       "    </tr>\n",
       "    <tr>\n",
       "      <th>4</th>\n",
       "      <td>454</td>\n",
       "    </tr>\n",
       "    <tr>\n",
       "      <th>5</th>\n",
       "      <td>456</td>\n",
       "    </tr>\n",
       "    <tr>\n",
       "      <th>6</th>\n",
       "      <td>456</td>\n",
       "    </tr>\n",
       "    <tr>\n",
       "      <th>7</th>\n",
       "      <td>456</td>\n",
       "    </tr>\n",
       "    <tr>\n",
       "      <th>8</th>\n",
       "      <td>456</td>\n",
       "    </tr>\n",
       "    <tr>\n",
       "      <th>9</th>\n",
       "      <td>456</td>\n",
       "    </tr>\n",
       "    <tr>\n",
       "      <th>10</th>\n",
       "      <td>456</td>\n",
       "    </tr>\n",
       "    <tr>\n",
       "      <th>11</th>\n",
       "      <td>455</td>\n",
       "    </tr>\n",
       "    <tr>\n",
       "      <th>12</th>\n",
       "      <td>456</td>\n",
       "    </tr>\n",
       "  </tbody>\n",
       "</table>\n",
       "</div>"
      ],
      "text/plain": [
       "            count\n",
       "year month       \n",
       "2011 1        431\n",
       "     2        446\n",
       "     3        446\n",
       "     4        455\n",
       "     5        456\n",
       "     6        456\n",
       "     7        456\n",
       "     8        456\n",
       "     9        453\n",
       "     10       455\n",
       "     11       456\n",
       "     12       456\n",
       "2012 1        453\n",
       "     2        455\n",
       "     3        455\n",
       "     4        454\n",
       "     5        456\n",
       "     6        456\n",
       "     7        456\n",
       "     8        456\n",
       "     9        456\n",
       "     10       456\n",
       "     11       455\n",
       "     12       456"
      ]
     },
     "execution_count": 12,
     "metadata": {},
     "output_type": "execute_result"
    }
   ],
   "source": [
    "df = feats_engineering(df_train)\n",
    "df[ ['year', 'month', 'count'] ].groupby(['year', 'month']).agg(len)"
   ]
  },
  {
   "cell_type": "code",
   "execution_count": 13,
   "metadata": {
    "collapsed": true
   },
   "outputs": [],
   "source": [
    "def custom_validation(df, feats, target_variable='count', n_folds=3):\n",
    "    X = df[feats].values\n",
    "    y = df[target_variable].values\n",
    "\n",
    "    groups = df['datetime'].dt.month.values\n",
    "    group_kfold = GroupKFold(n_splits=n_folds)\n",
    "    \n",
    "    for train_idx, test_idx in group_kfold.split(X, y, groups):\n",
    "        yield X[train_idx], X[test_idx], y[train_idx], y[test_idx]"
   ]
  },
  {
   "cell_type": "code",
   "execution_count": 14,
   "metadata": {},
   "outputs": [
    {
     "data": {
      "text/plain": [
       "(0.62055209225284058, 0.012500817435605218)"
      ]
     },
     "execution_count": 14,
     "metadata": {},
     "output_type": "execute_result"
    }
   ],
   "source": [
    "feats = get_feats(feats_engineering(df_train))\n",
    "\n",
    "models, scores = [], []\n",
    "\n",
    "for idx, (X_train, X_test, y_train, y_test) in enumerate(custom_validation(df_train, feats, target_variable='count')):\n",
    "    model = DecisionTreeRegressor(max_depth=5, random_state=2018)\n",
    "    model.fit(X_train, y_train)\n",
    "    y_pred = model.predict(X_test)\n",
    "    score = rmsle(y_test, y_pred)\n",
    "    \n",
    "    models.append(model)\n",
    "    scores.append(score)\n",
    "\n",
    "\n",
    "np.mean(scores), np.std(scores)"
   ]
  },
  {
   "cell_type": "markdown",
   "metadata": {},
   "source": [
    "## Count = Registered + Casual\n",
    "First, let's check that this assumption is true."
   ]
  },
  {
   "cell_type": "code",
   "execution_count": 26,
   "metadata": {},
   "outputs": [
    {
     "data": {
      "text/plain": [
       "(0, 17)"
      ]
     },
     "execution_count": 26,
     "metadata": {},
     "output_type": "execute_result"
    }
   ],
   "source": [
    "df_train[ df_train['count'] != df_train['registered'] + df_train['casual'] ].shape"
   ]
  },
  {
   "cell_type": "markdown",
   "metadata": {},
   "source": [
    "Ok, looks good :). Now, let's build two separeted model. First one will predict `registered` and second one `casual`. In the end just sum up: `count_pred` = `registered_pred` + `casual_pred` "
   ]
  },
  {
   "cell_type": "markdown",
   "metadata": {},
   "source": [
    "### Two models: Registered + Casual"
   ]
  },
  {
   "cell_type": "code",
   "execution_count": 16,
   "metadata": {},
   "outputs": [
    {
     "data": {
      "text/plain": [
       "(0.60825573003644307, 0.018690969969970269)"
      ]
     },
     "execution_count": 16,
     "metadata": {},
     "output_type": "execute_result"
    }
   ],
   "source": [
    "df = feats_engineering(df_train)\n",
    "feats = get_feats(df)\n",
    "\n",
    "groups = df_train['datetime'].dt.month.values\n",
    "group_kfold = GroupKFold(n_splits=3)\n",
    "    \n",
    "X = df[feats].values\n",
    "registered = df_train['registered'].values\n",
    "casual = df_train['casual'].values\n",
    "count = df_train['count'].values\n",
    "\n",
    "scores = []\n",
    "for train_idx, test_idx in group_kfold.split(X, count, groups):\n",
    "\n",
    "    model = DecisionTreeRegressor(max_depth=5, random_state=2018)\n",
    "    model.fit(X[train_idx], registered[train_idx])\n",
    "    registered_pred = model.predict(X[test_idx])\n",
    "    \n",
    "    model = DecisionTreeRegressor(max_depth=5, random_state=2018)\n",
    "    model.fit(X[train_idx], casual[train_idx])\n",
    "    casual_pred = model.predict(X[test_idx])\n",
    "    \n",
    "    count_pred = registered_pred + casual_pred\n",
    "    \n",
    "    score = rmsle(count[test_idx], count_pred)\n",
    "    scores.append(score)\n",
    "\n",
    "np.mean(scores), np.std(scores)"
   ]
  },
  {
   "cell_type": "markdown",
   "metadata": {},
   "source": [
    "## Logarithm transformation"
   ]
  },
  {
   "cell_type": "code",
   "execution_count": 17,
   "metadata": {},
   "outputs": [
    {
     "data": {
      "image/png": "[encoded data removed]",
      "text/plain": [
       "<matplotlib.figure.Figure at 0x11168d6a0>"
      ]
     },
     "metadata": {},
     "output_type": "display_data"
    }
   ],
   "source": [
    "df_train['count'].hist(bins=50);"
   ]
  },
  {
   "cell_type": "code",
   "execution_count": 34,
   "metadata": {},
   "outputs": [
    {
     "data": {
      "image/png": "[encoded data removed]",
      "text/plain": [
       "<matplotlib.figure.Figure at 0x11f76a128>"
      ]
     },
     "metadata": {},
     "output_type": "display_data"
    }
   ],
   "source": [
    "np.log2( df_train['casual'] + 3).hist(bins=50);"
   ]
  },
  {
   "cell_type": "code",
   "execution_count": 19,
   "metadata": {},
   "outputs": [],
   "source": [
    "df_train['count_log'] = np.log( df_train['count'] + 1 )"
   ]
  },
  {
   "cell_type": "code",
   "execution_count": 20,
   "metadata": {},
   "outputs": [
    {
     "data": {
      "text/plain": [
       "(0.60913467000164234, 0.011216467110148148)"
      ]
     },
     "execution_count": 20,
     "metadata": {},
     "output_type": "execute_result"
    }
   ],
   "source": [
    "df = feats_engineering(df_train)\n",
    "feats = get_feats(df)\n",
    "\n",
    "groups = df_train['datetime'].dt.month.values\n",
    "group_kfold = GroupKFold(n_splits=3)\n",
    "    \n",
    "X = df[feats].values\n",
    "\n",
    "count = df_train['count'].values\n",
    "offset_log = 6\n",
    "count_log = np.log2( count + offset_log)\n",
    "\n",
    "scores = []\n",
    "for train_idx, test_idx in group_kfold.split(X, count, groups):\n",
    "\n",
    "    model = DecisionTreeRegressor(max_depth=5, random_state=2018)\n",
    "    model.fit(X[train_idx], count_log[train_idx])\n",
    "    count_log_pred = model.predict(X[test_idx])\n",
    "    \n",
    "    count_pred = np.exp2( count_log_pred) - offset_log \n",
    "\n",
    "    score = rmsle(count[test_idx], count_pred)\n",
    "    scores.append(score)\n",
    "\n",
    "np.mean(scores), np.std(scores)"
   ]
  },
  {
   "cell_type": "code",
   "execution_count": 21,
   "metadata": {},
   "outputs": [
    {
     "data": {
      "text/plain": [
       "(0.58745725499496981, 0.0094175840137115958)"
      ]
     },
     "execution_count": 21,
     "metadata": {},
     "output_type": "execute_result"
    }
   ],
   "source": [
    "df = feats_engineering(df_train)\n",
    "feats = get_feats(df)\n",
    "\n",
    "groups = df_train['datetime'].dt.month.values\n",
    "group_kfold = GroupKFold(n_splits=3)\n",
    "    \n",
    "X = df[feats].values\n",
    "offset_log = 3\n",
    "\n",
    "registered = df['registered'].values\n",
    "registered_log = np.log2(registered + offset_log)\n",
    "\n",
    "casual = df['casual'].values\n",
    "casual_log = np.log2(casual + offset_log)\n",
    "\n",
    "count = df['count'].values\n",
    "count_log = np.log2(count + offset_log)\n",
    "\n",
    "scores = []\n",
    "for train_idx, test_idx in group_kfold.split(X, count, groups):\n",
    "    model = DecisionTreeRegressor(max_depth=5, random_state=2018)\n",
    "    model.fit(X[train_idx], registered_log[train_idx])\n",
    "    registered_log_pred = model.predict(X[test_idx])\n",
    "    registered_pred = np.exp2(registered_log_pred) - offset_log\n",
    "    \n",
    "    model = DecisionTreeRegressor(max_depth=5, random_state=2018)\n",
    "    model.fit(X[train_idx], casual_log[train_idx])\n",
    "    casual_log_pred = model.predict(X[test_idx])\n",
    "    casual_pred = np.exp2(casual_log_pred) - offset_log\n",
    "    \n",
    "#     model = DecisionTreeRegressor(max_depth=5, random_state=2018)\n",
    "#     model.fit(X[train_idx], count_log[train_idx])\n",
    "#     count_log_pred = model.predict(X[test_idx])\n",
    "#     count_pred_1 = np.exp2(count_log_pred) - offset_log\n",
    "    \n",
    "    count_pred = registered_pred + casual_pred\n",
    "    #count_pred = 0.7*(registered_pred + casual_pred) + 0.3*count_pred_1\n",
    "    \n",
    "    score = rmsle(count[test_idx], count_pred)\n",
    "    scores.append(score)\n",
    "\n",
    "np.mean(scores), np.std(scores)"
   ]
  },
  {
   "cell_type": "markdown",
   "metadata": {},
   "source": [
    "##  Submit => 0.67261"
   ]
  },
  {
   "cell_type": "code",
   "execution_count": 22,
   "metadata": {
    "collapsed": true
   },
   "outputs": [],
   "source": [
    "train = feats_engineering(df_train)\n",
    "test = feats_engineering(df_test)\n",
    "\n",
    "feats = get_feats(train)\n",
    "X_train, X_test = train[feats].values, test[feats].values\n",
    "\n",
    "offset_log = 3\n",
    "\n",
    "registered = train['registered'].values\n",
    "registered_log = np.log2(registered + offset_log)\n",
    "\n",
    "casual = train['casual'].values\n",
    "casual_log = np.log2(casual + offset_log)\n",
    "\n",
    "count = train['count'].values\n",
    "count_log = np.log2(count + offset_log)"
   ]
  },
  {
   "cell_type": "code",
   "execution_count": 23,
   "metadata": {},
   "outputs": [],
   "source": [
    "model_registered = DecisionTreeRegressor(max_depth=5, random_state=2018)\n",
    "model_registered.fit(X_train, registered_log)\n",
    "\n",
    "model_casual = DecisionTreeRegressor(max_depth=5, random_state=2018)\n",
    "model_casual.fit(X_train, casual_log)\n",
    "\n",
    "registered_log_pred = model_registered.predict(X_test)\n",
    "registered_pred = np.exp2(registered_log_pred) - offset_log\n",
    "\n",
    "casual_log_pred = model_casual.predict(X_test)\n",
    "casual_pred = np.exp2(casual_log_pred) - offset_log\n",
    "\n",
    "test['count'] = registered_pred + casual_pred"
   ]
  },
  {
   "cell_type": "code",
   "execution_count": 24,
   "metadata": {},
   "outputs": [],
   "source": [
    "test[ ['datetime', 'count'] ].to_csv('../output/dt_log_registered_casual.csv', index=False)"
   ]
  },
  {
   "cell_type": "markdown",
   "metadata": {},
   "source": [
    "![](../images/0.67261.png)"
   ]
  },
  {
   "cell_type": "code",
   "execution_count": null,
   "metadata": {
    "collapsed": true
   },
   "outputs": [],
   "source": []
  }
 ],
 "metadata": {
  "kernelspec": {
   "display_name": "Python 3",
   "language": "python",
   "name": "python3"
  },
  "language_info": {
   "codemirror_mode": {
    "name": "ipython",
    "version": 3
   },
   "file_extension": ".py",
   "mimetype": "text/x-python",
   "name": "python",
   "nbconvert_exporter": "python",
   "pygments_lexer": "ipython3",
   "version": "3.6.1"
  }
 },
 "nbformat": 4,
 "nbformat_minor": 2
}
